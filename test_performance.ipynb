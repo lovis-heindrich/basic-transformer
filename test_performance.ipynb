{
 "cells": [
  {
   "cell_type": "code",
   "execution_count": 31,
   "metadata": {},
   "outputs": [],
   "source": [
    "import pickle\n",
    "import torch\n",
    "from src.model import Transformer, TransformerConfig"
   ]
  },
  {
   "cell_type": "code",
   "execution_count": 33,
   "metadata": {},
   "outputs": [
    {
     "name": "stdout",
     "output_type": "stream",
     "text": [
      "['vocabulary_size', 'max_input_length', 'batch_size', 'embedding_size', 'word_to_index', 'index_to_word', 'num_blocks', 'num_heads']\n"
     ]
    }
   ],
   "source": [
    "with open(\"models/transformer_settings.pkl\", \"rb\") as f:\n",
    "    settings = pickle.load(f)\n",
    "print(list(settings.keys()))"
   ]
  },
  {
   "cell_type": "code",
   "execution_count": 64,
   "metadata": {},
   "outputs": [
    {
     "name": "stdout",
     "output_type": "stream",
     "text": [
      "Model loaded\n"
     ]
    }
   ],
   "source": [
    "config = TransformerConfig(vocab_size=settings[\"vocabulary_size\"], max_input_length=settings[\"max_input_length\"], num_heads=settings[\"num_heads\"], num_blocks=settings[\"num_blocks\"], embedding_size=settings[\"embedding_size\"])\n",
    "transformer = Transformer(config)\n",
    "transformer.load_state_dict(torch.load(\"models/transformer_model.pt\", map_location=torch.device('cpu')))\n",
    "transformer.train()\n",
    "print(\"Model loaded\")"
   ]
  },
  {
   "cell_type": "code",
   "execution_count": 65,
   "metadata": {},
   "outputs": [
    {
     "data": {
      "text/plain": [
       "9"
      ]
     },
     "execution_count": 65,
     "metadata": {},
     "output_type": "execute_result"
    }
   ],
   "source": [
    "index_to_word = settings[\"index_to_word\"]\n",
    "\n",
    "def generate_next_token(tokens=None):\n",
    "    if tokens == None:\n",
    "        tokens = []\n",
    "    last_token = len(index_to_word)-1\n",
    "    x = tokens + [last_token]*(settings[\"max_input_length\"] - len(tokens))\n",
    "    x = torch.LongTensor([x])\n",
    "    with torch.no_grad():\n",
    "        y = transformer(x)\n",
    "    # Don't allow the model to generate <unknown> tokens\n",
    "    y = y[:, :, :y.shape[2]-1]\n",
    "    pred = y.argmax(dim=-1).view(-1)\n",
    "    next_word = pred[len(tokens)].item()\n",
    "    return next_word\n",
    "\n",
    "def print_sentence(words):\n",
    "    print(\" \".join([index_to_word[word] for word in words]))\n",
    "\n",
    "generate_next_token()"
   ]
  },
  {
   "cell_type": "code",
   "execution_count": 71,
   "metadata": {},
   "outputs": [
    {
     "name": "stdout",
     "output_type": "stream",
     "text": [
      "and bring him if  him his be .  .            ,   ,  ,      ,  -\n",
      "a most <unknown> juvenal <unknown> and of ,  ,  ,  ,  ,  ,  ,  ,  ,  ,  ,  ,  ,  ,  ,  ,  ,  ,  ,  ,  ,  ,  , \n",
      "the captive is enrich on whose side the beggar . the <unknown> .  ,  ,  ,  ,  ,  ,  ,  ,  ,  ,  ,  ,  ,  ,  ,  ,  , \n",
      "i say the <unknown> holds in ,  ,           ,     ,   ,  ,  ,     \n"
     ]
    }
   ],
   "source": [
    "def generate_sentence(start=None):\n",
    "    if start == None:\n",
    "        sentence = []\n",
    "    else:\n",
    "        words = start.split(\" \")\n",
    "        sentence = [settings[\"word_to_index\"][x] for x in words]\n",
    "    \n",
    "    while len(sentence) < config.max_input_length:\n",
    "        next_word = generate_next_token(sentence)\n",
    "        sentence += [next_word]\n",
    "    \n",
    "    print_sentence(sentence)\n",
    "\n",
    "generate_sentence(\"and bring him if\")\n",
    "generate_sentence(\"a most acute juvenal volable and\")\n",
    "generate_sentence(\"the captive is enrich on whose side the beggar . the catastrophe\")\n",
    "generate_sentence(\"i say the polusion holds in\")\n",
    "    "
   ]
  },
  {
   "attachments": {},
   "cell_type": "markdown",
   "metadata": {},
   "source": [
    "Ideas\n",
    "- Better preprocessing: remove punctuation? remove apostrophes and comma remove unknown chars\n",
    "- only parse dialogue?\n",
    "- Different parameters?"
   ]
  },
  {
   "cell_type": "code",
   "execution_count": null,
   "metadata": {},
   "outputs": [],
   "source": []
  }
 ],
 "metadata": {
  "kernelspec": {
   "display_name": "cogtut",
   "language": "python",
   "name": "python3"
  },
  "language_info": {
   "codemirror_mode": {
    "name": "ipython",
    "version": 3
   },
   "file_extension": ".py",
   "mimetype": "text/x-python",
   "name": "python",
   "nbconvert_exporter": "python",
   "pygments_lexer": "ipython3",
   "version": "3.8.16"
  },
  "orig_nbformat": 4
 },
 "nbformat": 4,
 "nbformat_minor": 2
}
