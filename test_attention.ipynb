{
 "cells": [
  {
   "attachments": {},
   "cell_type": "markdown",
   "metadata": {},
   "source": [
    "## Toy task evaluation\n",
    "\n",
    "This notebook contains a proof-of-concept evaluation on a small toy task. "
   ]
  },
  {
   "cell_type": "code",
   "execution_count": 1,
   "metadata": {},
   "outputs": [],
   "source": [
    "from src.model import Transformer, TransformerConfig\n",
    "import torch\n",
    "import torch.nn as nn\n",
    "import seaborn as sns\n",
    "import numpy as np\n",
    "from matplotlib import pyplot as plt\n",
    "\n",
    "%load_ext autoreload\n",
    "%autoreload 2"
   ]
  },
  {
   "cell_type": "code",
   "execution_count": 2,
   "metadata": {},
   "outputs": [],
   "source": [
    "# Expectation: should be able to predict the next word with 100% accuracy, except for the last word, where it should be undecided between \"working\" and \"broken\"\n",
    "sentences = [\"this transformer is working\", \"this transformer is broken\"]\n",
    "words = {\"this\": 0, \"transformer\": 1, \"is\": 2, \"working\": 3, \"broken\": 4, \"<end>\": 5}\n",
    "max_input_length = 4\n",
    "training_data = torch.LongTensor([[words[word] for word in example.split(\" \")] for example in sentences])\n",
    "y = torch.LongTensor([[words[word] for word in example.split(\" \")[1:]] + [words[\"<end>\"]] for example in sentences]).view(-1)"
   ]
  },
  {
   "cell_type": "code",
   "execution_count": 3,
   "metadata": {},
   "outputs": [
    {
     "name": "stdout",
     "output_type": "stream",
     "text": [
      "Step: 999, loss: 0.12502583861351013\n",
      "[[0.724 0.199 0.063 0.002 0.003 0.009]\n",
      " [0.001 0.127 0.773 0.014 0.    0.085]\n",
      " [0.001 0.    0.264 0.001 0.    0.735]\n",
      " [0.    0.    0.026 0.034 0.    0.939]]\n",
      "Step: 1999, loss: 0.06449530273675919\n",
      "[[0.001 0.997 0.001 0.001 0.    0.   ]\n",
      " [0.    0.015 0.975 0.003 0.    0.007]\n",
      " [0.    0.    0.348 0.001 0.    0.651]\n",
      " [0.    0.    0.001 0.02  0.    0.978]]\n",
      "Step: 2999, loss: 0.06359555572271347\n",
      "[[0.    0.995 0.002 0.002 0.    0.   ]\n",
      " [0.    0.002 0.903 0.001 0.    0.093]\n",
      " [0.    0.    0.588 0.002 0.    0.41 ]\n",
      " [0.    0.    0.008 0.003 0.    0.988]]\n",
      "Step: 3999, loss: 0.047177862375974655\n",
      "[[0.001 0.994 0.002 0.003 0.    0.   ]\n",
      " [0.    0.001 0.951 0.023 0.    0.025]\n",
      " [0.    0.    0.489 0.316 0.002 0.193]\n",
      " [0.    0.    0.006 0.009 0.    0.985]]\n",
      "Step: 4999, loss: 0.03269888833165169\n",
      "[[0.003 0.995 0.001 0.001 0.    0.001]\n",
      " [0.    0.001 0.979 0.01  0.001 0.009]\n",
      " [0.    0.    0.091 0.783 0.001 0.125]\n",
      " [0.    0.    0.001 0.    0.    0.999]]\n",
      "Step: 5999, loss: 0.03429324924945831\n",
      "[[0.004 0.993 0.002 0.    0.    0.   ]\n",
      " [0.    0.003 0.98  0.01  0.    0.007]\n",
      " [0.    0.005 0.083 0.819 0.    0.093]\n",
      " [0.    0.    0.002 0.002 0.    0.996]]\n",
      "Step: 6999, loss: 0.03760877624154091\n",
      "[[0.006 0.684 0.271 0.016 0.005 0.018]\n",
      " [0.    0.    0.976 0.007 0.013 0.004]\n",
      " [0.    0.    0.171 0.493 0.02  0.315]\n",
      " [0.    0.    0.001 0.001 0.001 0.997]]\n",
      "Step: 7999, loss: 0.018441347405314445\n",
      "[[0.    1.    0.    0.    0.    0.   ]\n",
      " [0.    0.002 0.993 0.    0.001 0.004]\n",
      " [0.    0.    0.019 0.72  0.155 0.106]\n",
      " [0.    0.    0.005 0.002 0.    0.993]]\n",
      "Step: 8999, loss: 0.015288535505533218\n",
      "[[0.01  0.987 0.002 0.    0.    0.   ]\n",
      " [0.    0.001 0.911 0.031 0.007 0.05 ]\n",
      " [0.    0.    0.044 0.435 0.482 0.038]\n",
      " [0.    0.    0.002 0.    0.    0.997]]\n",
      "Step: 9999, loss: 0.02744845487177372\n",
      "[[0.    0.996 0.001 0.002 0.    0.   ]\n",
      " [0.    0.    0.995 0.    0.001 0.003]\n",
      " [0.    0.    0.011 0.43  0.552 0.007]\n",
      " [0.    0.    0.013 0.002 0.019 0.965]]\n"
     ]
    }
   ],
   "source": [
    "one_hot_y = nn.functional.one_hot(y, num_classes=len(words)).float()\n",
    "transformer = Transformer(TransformerConfig(vocab_size=len(words), max_input_length=max_input_length, num_heads=2, num_blocks=2, embedding_size=16))\n",
    "loss_fn = nn.MSELoss()\n",
    "optim = torch.optim.Adam(transformer.parameters(), lr=5e-5)\n",
    "\n",
    "for i in range(10000):\n",
    "    x = transformer(training_data)\n",
    "    x = x.view(-1, x.shape[-1])\n",
    "    loss = loss_fn(x, one_hot_y)\n",
    "    optim.zero_grad()\n",
    "    loss.backward()\n",
    "    optim.step()\n",
    "    if (i+1)%1000 == 0:\n",
    "        print(f\"Step: {i}, loss: {loss}\")\n",
    "        print(np.round(x.detach().numpy()[:max_input_length], 3))"
   ]
  },
  {
   "cell_type": "code",
   "execution_count": 5,
   "metadata": {},
   "outputs": [
    {
     "name": "stdout",
     "output_type": "stream",
     "text": [
      "[[0.    1.    0.    0.    0.    0.   ]\n",
      " [0.    0.    0.998 0.    0.    0.001]\n",
      " [0.    0.    0.017 0.461 0.506 0.016]\n",
      " [0.    0.    0.001 0.    0.    0.999]]\n"
     ]
    },
    {
     "data": {
      "image/png": "[encoded data removed]",
      "text/plain": [
       "<Figure size 640x480 with 2 Axes>"
      ]
     },
     "metadata": {},
     "output_type": "display_data"
    }
   ],
   "source": [
    "transformer.eval()\n",
    "\n",
    "with torch.no_grad():\n",
    "    test_input = \"this transformer is working\".split(\" \")\n",
    "    test_data = torch.LongTensor([[words[word] for word in test_input]])\n",
    "    x = transformer(test_data).detach()\n",
    "    x = np.round(x.view(-1, x.shape[-1]).numpy(), 3)\n",
    "\n",
    "print(x)\n",
    "\n",
    "g = sns.heatmap(x, cmap=\"viridis\")\n",
    "g.set_ylabel(\"Current word\")\n",
    "g.set_xlabel(\"Next word\")\n",
    "g.set_title(\"Softmax probabilities of the next word\")\n",
    "g.set_xticks([i+0.5 for i in range(6)], [\"this\", \"transformer\", \"is\", \"working\", \"broken\", \"<end>\"])\n",
    "g.set_yticks([i+0.5 for i in range(4)], test_input)\n",
    "plt.show()"
   ]
  },
  {
   "cell_type": "code",
   "execution_count": null,
   "metadata": {},
   "outputs": [],
   "source": []
  }
 ],
 "metadata": {
  "kernelspec": {
   "display_name": "cogtut",
   "language": "python",
   "name": "python3"
  },
  "language_info": {
   "codemirror_mode": {
    "name": "ipython",
    "version": 3
   },
   "file_extension": ".py",
   "mimetype": "text/x-python",
   "name": "python",
   "nbconvert_exporter": "python",
   "pygments_lexer": "ipython3",
   "version": "3.8.16"
  },
  "orig_nbformat": 4
 },
 "nbformat": 4,
 "nbformat_minor": 2
}
