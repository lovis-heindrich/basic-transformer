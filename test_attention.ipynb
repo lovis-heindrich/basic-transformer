{
 "cells": [
  {
   "cell_type": "code",
   "execution_count": 66,
   "metadata": {},
   "outputs": [
    {
     "name": "stdout",
     "output_type": "stream",
     "text": [
      "The autoreload extension is already loaded. To reload it, use:\n",
      "  %reload_ext autoreload\n"
     ]
    }
   ],
   "source": [
    "from src.model import Transformer, TransformerConfig\n",
    "import torch\n",
    "import torch.nn as nn\n",
    "import seaborn as sns\n",
    "import numpy as np\n",
    "\n",
    "%load_ext autoreload\n",
    "%autoreload 2"
   ]
  },
  {
   "cell_type": "code",
   "execution_count": 7,
   "metadata": {},
   "outputs": [
    {
     "data": {
      "text/plain": [
       "tensor([[[6.2181e-14, 9.9999e-01, 6.0463e-16, 2.4105e-11, 2.3305e-14,\n",
       "          6.0437e-17, 2.0967e-14, 4.2513e-15, 6.3042e-06, 6.5140e-19],\n",
       "         [7.2628e-09, 6.3067e-06, 2.5678e-06, 1.8474e-08, 2.1360e-04,\n",
       "          9.9840e-01, 4.1308e-08, 2.2075e-08, 1.0486e-04, 1.2677e-03],\n",
       "         [2.1728e-11, 3.0505e-16, 1.0000e+00, 2.3629e-12, 6.4585e-12,\n",
       "          1.0348e-20, 6.9496e-11, 1.3904e-17, 2.4508e-09, 3.4972e-16],\n",
       "         [3.3442e-08, 2.9863e-06, 2.6957e-09, 7.8824e-01, 9.0635e-14,\n",
       "          8.8183e-19, 4.1502e-09, 7.6394e-16, 2.1176e-01, 3.6888e-14],\n",
       "         [1.7627e-09, 5.1915e-12, 2.2339e-11, 6.6847e-14, 1.0000e+00,\n",
       "          2.3779e-18, 2.2225e-14, 3.1723e-18, 2.3186e-11, 1.6673e-15],\n",
       "         [1.5488e-15, 1.0000e+00, 1.1630e-16, 5.5333e-20, 3.1566e-20,\n",
       "          6.4008e-22, 9.8788e-22, 1.8144e-22, 1.4102e-15, 1.2350e-22]],\n",
       "\n",
       "        [[3.7483e-11, 9.9999e-01, 6.3598e-16, 7.1718e-11, 3.7834e-09,\n",
       "          4.7717e-13, 6.7138e-13, 5.9246e-11, 8.4922e-06, 6.6505e-16],\n",
       "         [7.8345e-17, 1.0000e+00, 5.3102e-16, 5.3938e-14, 5.4207e-14,\n",
       "          4.8839e-17, 8.9741e-18, 1.6167e-14, 2.1950e-09, 1.4705e-16],\n",
       "         [1.1486e-11, 1.0000e+00, 2.2182e-13, 4.9292e-12, 2.4341e-15,\n",
       "          1.0638e-16, 2.5437e-16, 1.6430e-13, 2.0272e-07, 2.6615e-14],\n",
       "         [1.3077e-12, 1.0000e+00, 2.6844e-14, 6.0030e-11, 3.7835e-15,\n",
       "          9.4163e-17, 3.0144e-17, 6.7027e-14, 3.3317e-08, 4.8094e-16],\n",
       "         [2.7272e-14, 1.0000e+00, 5.1455e-16, 1.7983e-11, 2.0956e-15,\n",
       "          1.9530e-15, 9.3164e-18, 1.5418e-13, 2.3015e-09, 6.0343e-16],\n",
       "         [7.6947e-06, 7.3940e-09, 6.7717e-10, 2.5795e-06, 1.2701e-08,\n",
       "          8.7434e-12, 9.9414e-01, 3.8825e-09, 5.8500e-03, 3.0422e-10]]],\n",
       "       grad_fn=<SoftmaxBackward>)"
      ]
     },
     "execution_count": 7,
     "metadata": {},
     "output_type": "execute_result"
    }
   ],
   "source": [
    "transformer = Transformer(TransformerConfig(10, 10, 2, num_blocks=2, embedding_size=64))\n",
    "test_input = torch.LongTensor([[1,5,2,3,4,1], [1,1,1,1,1,6]])\n",
    "transformer(test_input)"
   ]
  },
  {
   "cell_type": "code",
   "execution_count": 54,
   "metadata": {},
   "outputs": [
    {
     "name": "stdout",
     "output_type": "stream",
     "text": [
      "tensor([[0, 1, 2, 3, 5],\n",
      "        [0, 1, 2, 4, 5]])\n",
      "tensor([1, 2, 3, 5, 5, 1, 2, 4, 5, 5])\n"
     ]
    }
   ],
   "source": [
    "# Expectation: should be able to predict the next word with 100% accuracy, except for the last word, where it should be undecided between \"working\" and \"broken\"\n",
    "sentences = [\"this transformer is working <end>\", \"this transformer is broken <end>\"]\n",
    "words = {\"this\": 0, \"transformer\": 1, \"is\": 2, \"working\": 3, \"broken\": 4, \"<end>\": 5}\n",
    "training_data = torch.LongTensor([[words[word] for word in example.split(\" \")] for example in sentences])\n",
    "y = torch.LongTensor([[words[word] for word in example.split(\" \")[1:]] + [words[\"<end>\"]] for example in sentences]).view(-1)\n",
    "print(training_data)\n",
    "print(y)\n"
   ]
  },
  {
   "cell_type": "code",
   "execution_count": 61,
   "metadata": {},
   "outputs": [
    {
     "name": "stdout",
     "output_type": "stream",
     "text": [
      "Step: 0, loss: 0.24771340191364288\n",
      "Step: 999, loss: 0.022415004670619965\n",
      "Step: 1998, loss: 0.01663365587592125\n",
      "Step: 2997, loss: 0.017362035810947418\n",
      "Step: 3996, loss: 0.01559241022914648\n",
      "Step: 4995, loss: 0.015530895441770554\n",
      "Step: 5994, loss: 0.016533201560378075\n",
      "Step: 6993, loss: 0.01883033663034439\n",
      "Step: 7992, loss: 0.014311639592051506\n",
      "Step: 8991, loss: 0.019013868644833565\n",
      "Step: 9990, loss: 0.01794053241610527\n"
     ]
    }
   ],
   "source": [
    "one_hot_y = nn.functional.one_hot(y, num_classes=6).float()\n",
    "transformer = Transformer(TransformerConfig(vocab_size=6, max_input_length=5, num_heads=2, num_blocks=2, embedding_size=16))\n",
    "loss_fn = nn.MSELoss()\n",
    "optim = torch.optim.Adam(transformer.parameters())\n",
    "\n",
    "for i in range(10000):\n",
    "    x = transformer(training_data)\n",
    "    x = x.view(-1, x.shape[-1])\n",
    "    loss = loss_fn(x, one_hot_y)\n",
    "    optim.zero_grad()\n",
    "    loss.backward()\n",
    "    optim.step()\n",
    "    if i%999 == 0:\n",
    "        print(f\"Step: {i}, loss: {loss}\")"
   ]
  },
  {
   "cell_type": "code",
   "execution_count": 69,
   "metadata": {},
   "outputs": [
    {
     "name": "stdout",
     "output_type": "stream",
     "text": [
      "Predicted class probabilities\n",
      "[[0.   1.   0.   0.   0.   0.  ]\n",
      " [0.   0.   1.   0.   0.   0.  ]\n",
      " [0.   0.   0.   0.55 0.44 0.  ]\n",
      " [0.   0.   0.   0.   0.   1.  ]\n",
      " [0.   0.   0.   0.   0.   1.  ]\n",
      " [0.   1.   0.   0.   0.   0.  ]\n",
      " [0.   0.   1.   0.   0.   0.  ]\n",
      " [0.   0.   0.   0.49 0.5  0.  ]\n",
      " [0.   0.   0.   0.   0.   1.  ]\n",
      " [0.   0.   0.   0.   0.   1.  ]]\n",
      "True class probabilites\n",
      "[[0. 1. 0. 0. 0. 0.]\n",
      " [0. 0. 1. 0. 0. 0.]\n",
      " [0. 0. 0. 1. 0. 0.]\n",
      " [0. 0. 0. 0. 0. 1.]\n",
      " [0. 0. 0. 0. 0. 1.]\n",
      " [0. 1. 0. 0. 0. 0.]\n",
      " [0. 0. 1. 0. 0. 0.]\n",
      " [0. 0. 0. 0. 1. 0.]\n",
      " [0. 0. 0. 0. 0. 1.]\n",
      " [0. 0. 0. 0. 0. 1.]]\n"
     ]
    }
   ],
   "source": [
    "x = transformer(training_data).detach()\n",
    "x = np.round(x.view(-1, x.shape[-1]).numpy(), 2)\n",
    "print(\"Predicted class probabilities\")\n",
    "print(x)\n",
    "print(\"True class probabilites\")\n",
    "print(one_hot_y.numpy())\n"
   ]
  },
  {
   "cell_type": "code",
   "execution_count": 63,
   "metadata": {},
   "outputs": [
    {
     "data": {
      "text/plain": [
       "<Axes: >"
      ]
     },
     "execution_count": 63,
     "metadata": {},
     "output_type": "execute_result"
    },
    {
     "data": {
      "image/png": "[encoded data removed]",
      "text/plain": [
       "<Figure size 640x480 with 2 Axes>"
      ]
     },
     "metadata": {},
     "output_type": "display_data"
    }
   ],
   "source": [
    "x = transformer(training_data).detach()\n",
    "x = x.view(-1, x.shape[-1])\n",
    "sns.heatmap(x)"
   ]
  },
  {
   "cell_type": "code",
   "execution_count": null,
   "metadata": {},
   "outputs": [],
   "source": []
  }
 ],
 "metadata": {
  "kernelspec": {
   "display_name": "cogtut",
   "language": "python",
   "name": "python3"
  },
  "language_info": {
   "codemirror_mode": {
    "name": "ipython",
    "version": 3
   },
   "file_extension": ".py",
   "mimetype": "text/x-python",
   "name": "python",
   "nbconvert_exporter": "python",
   "pygments_lexer": "ipython3",
   "version": "3.8.16"
  },
  "orig_nbformat": 4
 },
 "nbformat": 4,
 "nbformat_minor": 2
}
